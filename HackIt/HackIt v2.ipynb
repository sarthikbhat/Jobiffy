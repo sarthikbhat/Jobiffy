{
 "cells": [
  {
   "cell_type": "code",
   "execution_count": 1,
   "metadata": {},
   "outputs": [],
   "source": [
    "import csv\n",
    "from parsel import Selector"
   ]
  },
  {
   "cell_type": "code",
   "execution_count": 2,
   "metadata": {},
   "outputs": [],
   "source": [
    "from time import sleep\n",
    "from selenium import webdriver"
   ]
  },
  {
   "cell_type": "code",
   "execution_count": 3,
   "metadata": {},
   "outputs": [],
   "source": [
    "from selenium.webdriver.common.keys import Keys"
   ]
  },
  {
   "cell_type": "code",
   "execution_count": 4,
   "metadata": {},
   "outputs": [],
   "source": [
    "from pandas import read_csv"
   ]
  },
  {
   "cell_type": "code",
   "execution_count": 5,
   "metadata": {},
   "outputs": [],
   "source": [
    "# urlListPandas = read_csv(\"template_new.csv\")"
   ]
  },
  {
   "cell_type": "code",
   "execution_count": 6,
   "metadata": {},
   "outputs": [],
   "source": [
    "# urlListPandas.fillna('nan', inplace=True)"
   ]
  },
  {
   "cell_type": "code",
   "execution_count": 7,
   "metadata": {},
   "outputs": [],
   "source": [
    "# urlList = []\n",
    "\n",
    "# for i in range(len(urlListPandas)):\n",
    "#     urlList.extend(urlListPandas.iloc[:, :].values[i])"
   ]
  },
  {
   "cell_type": "code",
   "execution_count": 8,
   "metadata": {},
   "outputs": [],
   "source": [
    "# urlListSetList = list(set(urlList))"
   ]
  },
  {
   "cell_type": "code",
   "execution_count": 9,
   "metadata": {},
   "outputs": [],
   "source": [
    "# urlListSetList.remove('nan')"
   ]
  },
  {
   "cell_type": "code",
   "execution_count": 10,
   "metadata": {},
   "outputs": [
    {
     "data": {
      "text/plain": [
       "['r',\n",
       " 'c#',\n",
       " 'bokeh',\n",
       " 'matplotlib',\n",
       " 'android',\n",
       " 'ejs',\n",
       " 'mongo',\n",
       " 'convolutional neural network',\n",
       " 'ar',\n",
       " 'vr',\n",
       " 'css',\n",
       " 'cuda',\n",
       " 'ec2',\n",
       " 'decentralized',\n",
       " 'smart contract',\n",
       " 'flutter',\n",
       " 'flask',\n",
       " 'shiny',\n",
       " 'markov chain',\n",
       " 'word embedding',\n",
       " 'distribution',\n",
       " 'virtual reality',\n",
       " 'kubernetes',\n",
       " 'ensemble',\n",
       " 'mysql',\n",
       " 'ggplot',\n",
       " 'monte carlo',\n",
       " 'boltzman machine',\n",
       " 'machine learning',\n",
       " 'spacy',\n",
       " 'named entity recognition',\n",
       " 'linear regression',\n",
       " 'unity',\n",
       " 'blockchain',\n",
       " 'android studio',\n",
       " 'nltk',\n",
       " 'object oriented',\n",
       " 'kotlin',\n",
       " 'probability',\n",
       " 'JSP',\n",
       " 'scipy',\n",
       " 'statistics',\n",
       " 'scikitlearn',\n",
       " 'keras',\n",
       " 'react native',\n",
       " 'dplyr',\n",
       " 'cran',\n",
       " 'C#',\n",
       " 'python',\n",
       " 'theano',\n",
       " 'chat bot',\n",
       " 'nlp',\n",
       " 'react ',\n",
       " 'back end',\n",
       " 'statsmodel',\n",
       " 'sql',\n",
       " 'naïve bayes',\n",
       " 'random forest',\n",
       " 'mongodb',\n",
       " 'augmented reality',\n",
       " 'hadoop',\n",
       " 'numpy',\n",
       " 'django',\n",
       " 'sqlite',\n",
       " 'logistic regression',\n",
       " 'k means',\n",
       " 'tensorflow',\n",
       " 'java',\n",
       " 'ios',\n",
       " 'Gdevelop',\n",
       " 'Servlet',\n",
       " 'lubridate',\n",
       " 'pandas',\n",
       " 'skip gram',\n",
       " 'artificial neural network',\n",
       " 'bag of words',\n",
       " 'C sharp',\n",
       " 'word2vec',\n",
       " 'sklearn',\n",
       " 'cnn',\n",
       " 'svm',\n",
       " 'sentiment analysis',\n",
       " 'ann',\n",
       " 'html',\n",
       " 'materialize',\n",
       " 'scala',\n",
       " 'face  detection',\n",
       " 'tidyr',\n",
       " 'node',\n",
       " 'gensim',\n",
       " 'face detection',\n",
       " 'knitr',\n",
       " 'aws',\n",
       " 'natural language processing',\n",
       " 'docker',\n",
       " 'neural network',\n",
       " 'angular',\n",
       " 'object detection',\n",
       " 'opencv',\n",
       " 'front end',\n",
       " 'graphql',\n",
       " 's3']"
      ]
     },
     "execution_count": 10,
     "metadata": {},
     "output_type": "execute_result"
    }
   ],
   "source": [
    "# urlListSetList"
   ]
  },
  {
   "cell_type": "code",
   "execution_count": 28,
   "metadata": {},
   "outputs": [],
   "source": [
    "# fileCSV = open('profiles_new_trial_final.csv', 'w+')\n",
    "\n",
    "# writerFileCSV = csv.writer(fileCSV)"
   ]
  },
  {
   "cell_type": "code",
   "execution_count": 29,
   "metadata": {},
   "outputs": [
    {
     "data": {
      "text/plain": [
       "46"
      ]
     },
     "execution_count": 29,
     "metadata": {},
     "output_type": "execute_result"
    }
   ],
   "source": [
    "# writerFileCSV.writerow(['Name', 'Position', 'Company', 'Education', 'Location', 'URL'])"
   ]
  },
  {
   "cell_type": "code",
   "execution_count": 5,
   "metadata": {},
   "outputs": [],
   "source": [
    "driver = webdriver.Chrome(r'C:\\Users\\Romil Rupen\\Downloads\\chromedriver_win32\\chromedriver')\n",
    "driver.get('https://www.linkedin.com/')\n",
    "sleep(5)"
   ]
  },
  {
   "cell_type": "code",
   "execution_count": 6,
   "metadata": {},
   "outputs": [],
   "source": [
    "username = driver.find_element_by_name(\"session_key\")\n",
    "username.send_keys('romilshah525@gmail.com')\n",
    "sleep(8)"
   ]
  },
  {
   "cell_type": "code",
   "execution_count": 7,
   "metadata": {},
   "outputs": [],
   "source": [
    "password = driver.find_element_by_name('session_password')\n",
    "password.send_keys('nv513UB8*')\n",
    "sleep(3)"
   ]
  },
  {
   "cell_type": "code",
   "execution_count": 8,
   "metadata": {},
   "outputs": [],
   "source": [
    "sign_in_button = driver.find_element_by_class_name('sign-in-form__submit-btn')\n",
    "sign_in_button.click()\n",
    "sleep(7)"
   ]
  },
  {
   "cell_type": "code",
   "execution_count": 9,
   "metadata": {},
   "outputs": [],
   "source": [
    "driver.get('https://www.google.com/')\n",
    "search_query = driver.find_element_by_name('q')\n",
    "skeep(2)"
   ]
  },
  {
   "cell_type": "code",
   "execution_count": 11,
   "metadata": {},
   "outputs": [],
   "source": [
    "search_query.send_keys(f'site:linkedin.com/in AND \"Machine Learning\" AND \"Mumbai\"')\n",
    "search_query.send_keys(Keys.RETURN)\n",
    "sleep(5)"
   ]
  },
  {
   "cell_type": "code",
   "execution_count": 12,
   "metadata": {},
   "outputs": [],
   "source": [
    "urls = []\n",
    "urls = driver.find_elements_by_xpath('//*[@class = \"r\"]/a[@href]')\n",
    "urls = [url.get_attribute('href') for url in urls]\n",
    "sleep(9)"
   ]
  },
  {
   "cell_type": "code",
   "execution_count": 13,
   "metadata": {},
   "outputs": [],
   "source": [
    "url = urls[0]\n",
    "driver.get(url)\n",
    "sleep(6)"
   ]
  },
  {
   "cell_type": "code",
   "execution_count": 14,
   "metadata": {},
   "outputs": [],
   "source": [
    "sel = Selector(text = driver.page_source)"
   ]
  },
  {
   "cell_type": "code",
   "execution_count": 15,
   "metadata": {},
   "outputs": [],
   "source": [
    "url = driver.current_url\n",
    "sleep(2)"
   ]
  },
  {
   "cell_type": "code",
   "execution_count": 16,
   "metadata": {},
   "outputs": [],
   "source": [
    "experience = sel.xpath('//*[@class = \"pv-top-card-v3--experience-list\"]')\n",
    "education = experience.xpath('.//li[@data-control-name = \"education_see_more\"]//span/text()').extract_first()\n",
    "education = ' '.join(education.split()) if education else None"
   ]
  },
  {
   "cell_type": "code",
   "execution_count": 22,
   "metadata": {},
   "outputs": [
    {
     "data": {
      "text/plain": [
       "parsel.selector.Selector"
      ]
     },
     "execution_count": 22,
     "metadata": {},
     "output_type": "execute_result"
    }
   ],
   "source": [
    "type(sel)"
   ]
  },
  {
   "cell_type": "code",
   "execution_count": 24,
   "metadata": {},
   "outputs": [],
   "source": [
    "body = sel.xpath('body')"
   ]
  },
  {
   "cell_type": "code",
   "execution_count": 25,
   "metadata": {},
   "outputs": [
    {
     "data": {
      "text/plain": [
       "[<Selector xpath='body' data='<body dir=\"ltr\" class=\"render-mode-BI...'>]"
      ]
     },
     "execution_count": 25,
     "metadata": {},
     "output_type": "execute_result"
    }
   ],
   "source": [
    "body"
   ]
  },
  {
   "cell_type": "code",
   "execution_count": null,
   "metadata": {},
   "outputs": [],
   "source": []
  },
  {
   "cell_type": "code",
   "execution_count": 198,
   "metadata": {},
   "outputs": [],
   "source": [
    "driver.quit()"
   ]
  },
  {
   "cell_type": "code",
   "execution_count": 199,
   "metadata": {},
   "outputs": [],
   "source": [
    "fileCSV.close()"
   ]
  }
 ],
 "metadata": {
  "kernelspec": {
   "display_name": "'Python Interactive'",
   "language": "python",
   "name": "c0366ac6-933f-4c31-b9c5-b6c400a43f0d"
  },
  "language_info": {
   "codemirror_mode": {
    "name": "ipython",
    "version": 3
   },
   "file_extension": ".py",
   "mimetype": "text/x-python",
   "name": "python",
   "nbconvert_exporter": "python",
   "pygments_lexer": "ipython3",
   "version": "3.7.5"
  }
 },
 "nbformat": 4,
 "nbformat_minor": 2
}
