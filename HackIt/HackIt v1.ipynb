{
 "cells": [
  {
   "cell_type": "code",
   "execution_count": 1,
   "metadata": {},
   "outputs": [],
   "source": [
    "import csv\n",
    "from parsel import Selector"
   ]
  },
  {
   "cell_type": "code",
   "execution_count": 2,
   "metadata": {},
   "outputs": [],
   "source": [
    "from time import sleep\n",
    "from selenium import webdriver"
   ]
  },
  {
   "cell_type": "code",
   "execution_count": 3,
   "metadata": {},
   "outputs": [],
   "source": [
    "from selenium.webdriver.common.keys import Keys"
   ]
  },
  {
   "cell_type": "code",
   "execution_count": 4,
   "metadata": {},
   "outputs": [],
   "source": [
    "from pandas import read_csv"
   ]
  },
  {
   "cell_type": "code",
   "execution_count": 5,
   "metadata": {},
   "outputs": [],
   "source": [
    "urlListPandas = read_csv(\"template_new.csv\")"
   ]
  },
  {
   "cell_type": "code",
   "execution_count": 6,
   "metadata": {},
   "outputs": [],
   "source": [
    "urlListPandas.fillna('nan', inplace=True)"
   ]
  },
  {
   "cell_type": "code",
   "execution_count": 7,
   "metadata": {},
   "outputs": [],
   "source": [
    "urlList = []\n",
    "\n",
    "for i in range(len(urlListPandas)):\n",
    "    urlList.extend(urlListPandas.iloc[:, :].values[i])"
   ]
  },
  {
   "cell_type": "code",
   "execution_count": 8,
   "metadata": {},
   "outputs": [],
   "source": [
    "urlListSetList = list(set(urlList))"
   ]
  },
  {
   "cell_type": "code",
   "execution_count": 9,
   "metadata": {},
   "outputs": [],
   "source": [
    "urlListSetList.remove('nan')"
   ]
  },
  {
   "cell_type": "code",
   "execution_count": 10,
   "metadata": {},
   "outputs": [
    {
     "data": {
      "text/plain": [
       "['kubernetes',\n",
       " 'spacy',\n",
       " 'logistic regression',\n",
       " 'scipy',\n",
       " 'flask',\n",
       " 'dplyr',\n",
       " 'r',\n",
       " 'C sharp',\n",
       " 'java',\n",
       " 'monte carlo',\n",
       " 'word embedding',\n",
       " 'react ',\n",
       " 'bag of words',\n",
       " 'vr',\n",
       " 'python',\n",
       " 'lubridate',\n",
       " 'django',\n",
       " 'pandas',\n",
       " 'tidyr',\n",
       " 'skip gram',\n",
       " 'android studio',\n",
       " 'nltk',\n",
       " 'cuda',\n",
       " 'graphql',\n",
       " 'face detection',\n",
       " 'flutter',\n",
       " 'mongodb',\n",
       " 'html',\n",
       " 'markov chain',\n",
       " 'css',\n",
       " 'tensorflow',\n",
       " 'word2vec',\n",
       " 'ggplot',\n",
       " 'k means',\n",
       " 'docker',\n",
       " 'blockchain',\n",
       " 'angular',\n",
       " 'keras',\n",
       " 'ec2',\n",
       " 'materialize',\n",
       " 'object oriented',\n",
       " 'bokeh',\n",
       " 'neural network',\n",
       " 'numpy',\n",
       " 'cran',\n",
       " 'natural language processing',\n",
       " 'android',\n",
       " 'nlp',\n",
       " 'sql',\n",
       " 'kotlin',\n",
       " 'Gdevelop',\n",
       " 'chat bot',\n",
       " 'boltzman machine',\n",
       " 'ejs',\n",
       " 'artificial neural network',\n",
       " 'sklearn',\n",
       " 'statistics',\n",
       " 'random forest',\n",
       " 'back end',\n",
       " 'virtual reality',\n",
       " 'ar',\n",
       " 'JSP',\n",
       " 'Servlet',\n",
       " 'probability',\n",
       " 'node',\n",
       " 'ios',\n",
       " 'hadoop',\n",
       " 'ensemble',\n",
       " 'unity',\n",
       " 'cnn',\n",
       " 'naïve bayes',\n",
       " 'object detection',\n",
       " 'convolutional neural network',\n",
       " 'mysql',\n",
       " 'svm',\n",
       " 'shiny',\n",
       " 'front end',\n",
       " 'distribution',\n",
       " 'ann',\n",
       " 'theano',\n",
       " 'react native',\n",
       " 'gensim',\n",
       " 'decentralized',\n",
       " 'knitr',\n",
       " 'face  detection',\n",
       " 's3',\n",
       " 'scala',\n",
       " 'smart contract',\n",
       " 'sqlite',\n",
       " 'c#',\n",
       " 'sentiment analysis',\n",
       " 'scikitlearn',\n",
       " 'augmented reality',\n",
       " 'mongo',\n",
       " 'matplotlib',\n",
       " 'linear regression',\n",
       " 'opencv',\n",
       " 'named entity recognition',\n",
       " 'machine learning',\n",
       " 'aws',\n",
       " 'statsmodel',\n",
       " 'C#']"
      ]
     },
     "execution_count": 10,
     "metadata": {},
     "output_type": "execute_result"
    }
   ],
   "source": [
    "urlListSetList"
   ]
  },
  {
   "cell_type": "code",
   "execution_count": 11,
   "metadata": {},
   "outputs": [],
   "source": [
    "fileCSV = open('profiles_new_trial_final.csv', 'w+')\n",
    "\n",
    "writerFileCSV = csv.writer(fileCSV)"
   ]
  },
  {
   "cell_type": "code",
   "execution_count": 12,
   "metadata": {},
   "outputs": [
    {
     "data": {
      "text/plain": [
       "46"
      ]
     },
     "execution_count": 12,
     "metadata": {},
     "output_type": "execute_result"
    }
   ],
   "source": [
    "writerFileCSV.writerow(['Name', 'Position', 'Company', 'Education', 'Location', 'URL'])"
   ]
  },
  {
   "cell_type": "code",
   "execution_count": 13,
   "metadata": {},
   "outputs": [],
   "source": [
    "driver = webdriver.Chrome(r'C:\\Users\\Romil Rupen\\Downloads\\chromedriver_win32\\chromedriver')\n",
    "driver.get('https://www.linkedin.com/')"
   ]
  },
  {
   "cell_type": "code",
   "execution_count": 14,
   "metadata": {},
   "outputs": [],
   "source": [
    "username = driver.find_element_by_name(\"session_key\")\n",
    "username.send_keys('romilshah525@gmail.com')\n",
    "sleep(5)"
   ]
  },
  {
   "cell_type": "code",
   "execution_count": 15,
   "metadata": {},
   "outputs": [],
   "source": [
    "password = driver.find_element_by_name('session_password')\n",
    "password.send_keys('nv513UB8*')\n",
    "sleep(5)"
   ]
  },
  {
   "cell_type": "code",
   "execution_count": 16,
   "metadata": {},
   "outputs": [],
   "source": [
    "sign_in_button = driver.find_element_by_class_name('sign-in-form__submit-btn')\n",
    "sign_in_button.click()\n",
    "sleep(5)"
   ]
  },
  {
   "cell_type": "code",
   "execution_count": 18,
   "metadata": {},
   "outputs": [],
   "source": [
    "driver.get('https://www.google.com/')\n",
    "search_query = driver.find_element_by_name('q')"
   ]
  },
  {
   "cell_type": "code",
   "execution_count": null,
   "metadata": {},
   "outputs": [],
   "source": [
    "search_query.send_keys('site:linkedin.com/in AND \"python developer\" AND \"london\"')\n",
    "search_query.send_keys(Keys.RETURN)\n",
    "sleep(5)\n",
    "\n",
    "urls = []\n",
    "urls = driver.find_elements_by_xpath('//*[@class = \"r\"]/a[@href]')\n",
    "urls = [url.get_attribute('href') for url in urls]\n",
    "sleep(5)\n",
    "\n",
    "# for url in urls[0]:\n",
    "url = url[0]\n",
    "driver.get(url)\n",
    "sleep(5)\n",
    "\n",
    "sel = Selector(text = driver.page_source)\n",
    "\n",
    "name = sel.xpath('//*[@class = \"inline t-24 t-black t-normal break-words\"]/text()').extract_first().split()\n",
    "name = ' '.join(name)\n",
    "\n",
    "position = sel.xpath('//*[@class = \"mt1 t-18 t-black t-normal\"]/text()').extract_first().split()\n",
    "position = ' '.join(position)\n",
    "\n",
    "experience = sel.xpath('//*[@class = \"pv-top-card-v3--experience-list\"]')\n",
    "company = experience.xpath('./li[@data-control-name = \"position_see_more\"]//span/text()').extract_first()\n",
    "company = ''.join(company.split()) if company else None\n",
    "education = experience.xpath('.//li[@data-control-name = \"education_see_more\"]//span/text()').extract_first()\n",
    "education = ' '.join(education.split()) if education else None\n",
    "\n",
    "location = ' '.join(sel.xpath('//*[@class = \"t-16 t-black t-normal inline-block\"]/text()').extract_first().split())\n",
    "\n",
    "url = driver.current_url\n",
    "\n",
    "print(f'Name: {name}, Position: {position}, Company: {company}, Education: {education}, Location: {location}, URL: {url}')\n",
    "\n",
    "writerFileCSV.writerow([name, position, company, education, location, url])"
   ]
  },
  {
   "cell_type": "code",
   "execution_count": null,
   "metadata": {},
   "outputs": [],
   "source": [
    "sel"
   ]
  },
  {
   "cell_type": "code",
   "execution_count": null,
   "metadata": {},
   "outputs": [],
   "source": []
  },
  {
   "cell_type": "code",
   "execution_count": null,
   "metadata": {},
   "outputs": [],
   "source": []
  },
  {
   "cell_type": "code",
   "execution_count": null,
   "metadata": {},
   "outputs": [],
   "source": []
  },
  {
   "cell_type": "code",
   "execution_count": null,
   "metadata": {},
   "outputs": [],
   "source": []
  },
  {
   "cell_type": "code",
   "execution_count": 198,
   "metadata": {},
   "outputs": [],
   "source": [
    "driver.quit()"
   ]
  },
  {
   "cell_type": "code",
   "execution_count": 199,
   "metadata": {},
   "outputs": [],
   "source": [
    "fileCSV.close()"
   ]
  },
  {
   "cell_type": "code",
   "execution_count": null,
   "metadata": {},
   "outputs": [],
   "source": []
  },
  {
   "cell_type": "code",
   "execution_count": null,
   "metadata": {},
   "outputs": [],
   "source": []
  }
 ],
 "metadata": {
  "kernelspec": {
   "display_name": "'Python Interactive'",
   "language": "python",
   "name": "c0366ac6-933f-4c31-b9c5-b6c400a43f0d"
  },
  "language_info": {
   "codemirror_mode": {
    "name": "ipython",
    "version": 3
   },
   "file_extension": ".py",
   "mimetype": "text/x-python",
   "name": "python",
   "nbconvert_exporter": "python",
   "pygments_lexer": "ipython3",
   "version": "3.7.5"
  }
 },
 "nbformat": 4,
 "nbformat_minor": 2
}
