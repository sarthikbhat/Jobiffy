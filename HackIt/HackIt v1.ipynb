{
 "cells": [
  {
   "cell_type": "code",
   "execution_count": 170,
   "metadata": {},
   "outputs": [],
   "source": [
    "import csv\n",
    "from parsel import Selector"
   ]
  },
  {
   "cell_type": "code",
   "execution_count": 171,
   "metadata": {},
   "outputs": [],
   "source": [
    "from time import sleep\n",
    "from selenium import webdriver"
   ]
  },
  {
   "cell_type": "code",
   "execution_count": 172,
   "metadata": {},
   "outputs": [],
   "source": [
    "from selenium.webdriver.common.keys import Keys"
   ]
  },
  {
   "cell_type": "code",
   "execution_count": 173,
   "metadata": {},
   "outputs": [],
   "source": [
    "from pandas import read_csv"
   ]
  },
  {
   "cell_type": "code",
   "execution_count": 174,
   "metadata": {},
   "outputs": [],
   "source": [
    "urlListPandas = read_csv(\"template_new.csv\")"
   ]
  },
  {
   "cell_type": "code",
   "execution_count": 175,
   "metadata": {},
   "outputs": [],
   "source": [
    "urlListPandas.fillna('nan', inplace=True)"
   ]
  },
  {
   "cell_type": "code",
   "execution_count": 176,
   "metadata": {},
   "outputs": [],
   "source": [
    "urlList = []\n",
    "\n",
    "for i in range(len(urlListPandas)):\n",
    "    urlList.extend(urlListPandas.iloc[:, :].values[i])"
   ]
  },
  {
   "cell_type": "code",
   "execution_count": 177,
   "metadata": {},
   "outputs": [],
   "source": [
    "urlListSetList = list(set(urlList))"
   ]
  },
  {
   "cell_type": "code",
   "execution_count": 178,
   "metadata": {},
   "outputs": [],
   "source": [
    "urlListSetList.remove('nan')"
   ]
  },
  {
   "cell_type": "code",
   "execution_count": 179,
   "metadata": {},
   "outputs": [
    {
     "data": {
      "text/plain": [
       "['word embedding',\n",
       " 'markov chain',\n",
       " 'ejs',\n",
       " 'graphql',\n",
       " 'flutter',\n",
       " 'natural language processing',\n",
       " 'naïve bayes',\n",
       " 'hadoop',\n",
       " 'gensim',\n",
       " 'svm',\n",
       " 'probability',\n",
       " 'r',\n",
       " 'css',\n",
       " 'tensorflow',\n",
       " 'react native',\n",
       " 'android studio',\n",
       " 'opencv',\n",
       " 'mongo',\n",
       " 'angular',\n",
       " 'ensemble',\n",
       " 'ggplot',\n",
       " 'knitr',\n",
       " 'c#',\n",
       " 'nlp',\n",
       " 'named entity recognition',\n",
       " 'keras',\n",
       " 'boltzman machine',\n",
       " 'nltk',\n",
       " 'scipy',\n",
       " 'ec2',\n",
       " 'Servlet',\n",
       " 'monte carlo',\n",
       " 'cran',\n",
       " 'flask',\n",
       " 'docker',\n",
       " 'react ',\n",
       " 'vr',\n",
       " 'python',\n",
       " 'linear regression',\n",
       " 'sklearn',\n",
       " 'aws',\n",
       " 'logistic regression',\n",
       " 's3',\n",
       " 'object oriented',\n",
       " 'bokeh',\n",
       " 'matplotlib',\n",
       " 'JSP',\n",
       " 'mongodb',\n",
       " 'scala',\n",
       " 'ar',\n",
       " 'word2vec',\n",
       " 'java',\n",
       " 'augmented reality',\n",
       " 'spacy',\n",
       " 'django',\n",
       " 'android',\n",
       " 'C#',\n",
       " 'lubridate',\n",
       " 'distribution',\n",
       " 'bag of words',\n",
       " 'statistics',\n",
       " 'front end',\n",
       " 'sqlite',\n",
       " 'ann',\n",
       " 'html',\n",
       " 'unity',\n",
       " 'kubernetes',\n",
       " 'smart contract',\n",
       " 'ios',\n",
       " 'neural network',\n",
       " 'scikitlearn',\n",
       " 'shiny',\n",
       " 'object detection',\n",
       " 'face detection',\n",
       " 'pandas',\n",
       " 'C sharp',\n",
       " 'machine learning',\n",
       " 'k means',\n",
       " 'cnn',\n",
       " 'decentralized',\n",
       " 'mysql',\n",
       " 'convolutional neural network',\n",
       " 'kotlin',\n",
       " 'node',\n",
       " 'artificial neural network',\n",
       " 'skip gram',\n",
       " 'back end',\n",
       " 'Gdevelop',\n",
       " 'materialize',\n",
       " 'dplyr',\n",
       " 'numpy',\n",
       " 'random forest',\n",
       " 'chat bot',\n",
       " 'theano',\n",
       " 'statsmodel',\n",
       " 'blockchain',\n",
       " 'cuda',\n",
       " 'face  detection',\n",
       " 'sql',\n",
       " 'sentiment analysis',\n",
       " 'tidyr',\n",
       " 'virtual reality']"
      ]
     },
     "execution_count": 179,
     "metadata": {},
     "output_type": "execute_result"
    }
   ],
   "source": [
    "urlListSetList"
   ]
  },
  {
   "cell_type": "code",
   "execution_count": 190,
   "metadata": {},
   "outputs": [],
   "source": [
    "fileCSV = open('profiles_new_trial_final.csv', 'w+')\n",
    "\n",
    "writerFileCSV = csv.writer(fileCSV)"
   ]
  },
  {
   "cell_type": "code",
   "execution_count": 191,
   "metadata": {},
   "outputs": [
    {
     "data": {
      "text/plain": [
       "46"
      ]
     },
     "execution_count": 191,
     "metadata": {},
     "output_type": "execute_result"
    }
   ],
   "source": [
    "writerFileCSV.writerow(['Name', 'Position', 'Company', 'Education', 'Location', 'URL'])"
   ]
  },
  {
   "cell_type": "code",
   "execution_count": 192,
   "metadata": {},
   "outputs": [],
   "source": [
    "driver = webdriver.Chrome(r'C:\\Users\\Romil Rupen\\Downloads\\chromedriver_win32\\chromedriver')\n",
    "driver.get('https://www.linkedin.com/')"
   ]
  },
  {
   "cell_type": "code",
   "execution_count": 193,
   "metadata": {},
   "outputs": [],
   "source": [
    "username = driver.find_element_by_name(\"session_key\")\n",
    "username.send_keys('romilshah525@gmail.com')\n",
    "sleep(0.5)"
   ]
  },
  {
   "cell_type": "code",
   "execution_count": 194,
   "metadata": {},
   "outputs": [],
   "source": [
    "password = driver.find_element_by_name('session_password')\n",
    "password.send_keys('nv513UB8*')\n",
    "sleep(0.5)"
   ]
  },
  {
   "cell_type": "code",
   "execution_count": 195,
   "metadata": {},
   "outputs": [],
   "source": [
    "sign_in_button = driver.find_element_by_class_name('sign-in-form__submit-btn')\n",
    "sign_in_button.click()\n",
    "sleep(2)"
   ]
  },
  {
   "cell_type": "code",
   "execution_count": 196,
   "metadata": {},
   "outputs": [],
   "source": [
    "driver.get('https://www.google.com/')\n",
    "search_query = driver.find_element_by_name('q')"
   ]
  },
  {
   "cell_type": "code",
   "execution_count": 197,
   "metadata": {},
   "outputs": [
    {
     "name": "stdout",
     "output_type": "stream",
     "text": [
      "Name: Paul Garner, Position: Freelance Python Developer at Depop, Company: None, Education: None, Location: London, Greater London, United Kingdom, URL: https://www.linkedin.com/in/pauljgarner/?originalSubdomain=uk\n",
      "Name: Andrew Namakarskiy, Position: Python Developer – IG, Company: None, Education: None, Location: London, United Kingdom, URL: https://www.linkedin.com/in/namakarskiy/?originalSubdomain=uk\n",
      "Name: Danny Butler, Position: Backend Python Developer at Ostmodern, Company: None, Education: None, Location: London, United Kingdom, URL: https://www.linkedin.com/in/danny-butler-62834777/?originalSubdomain=uk\n",
      "Name: Rameshkanth S., Position: Python Data Engineer - SC Cleared, Company: None, Education: None, Location: Tolworth, Greater London, United Kingdom, URL: https://www.linkedin.com/in/ksrameshkanth/?originalSubdomain=uk\n",
      "Name: Ronan Murphy, Position: Software Engineer at Direct Line Group, Company: None, Education: None, Location: London, United Kingdom, URL: https://www.linkedin.com/in/ronan-m/?originalSubdomain=uk\n",
      "Name: Kerry Knight, Position: Python Developer (Machine Learning) at IBM, Company: None, Education: None, Location: London, Greater London, United Kingdom, URL: https://www.linkedin.com/in/kerrycallan/?originalSubdomain=uk\n",
      "Name: Teppo Pera, Position: Python Developer at Noble, Company: None, Education: None, Location: London, Greater London, United Kingdom, URL: https://www.linkedin.com/in/debith/?originalSubdomain=uk\n",
      "Name: Bartosz Dziendzik, Position: Python developer, Company: None, Education: None, Location: London, United Kingdom, URL: https://www.linkedin.com/in/bartoszdziendzik/?originalSubdomain=uk\n",
      "Name: Felix Tillyard, Position: Python Developer at Wandera, Company: None, Education: None, Location: London, United Kingdom, URL: https://www.linkedin.com/in/felix-tillyard/?originalSubdomain=uk\n",
      "Name: Oliver Ernster, Position: Python Developer at Memset Ltd, Company: None, Education: None, Location: London, Greater London, United Kingdom, URL: https://www.linkedin.com/in/oliverernster/?originalSubdomain=uk\n"
     ]
    }
   ],
   "source": [
    "search_query.send_keys('site:linkedin.com/in AND \"python developer\" AND \"london\"')\n",
    "search_query.send_keys(Keys.RETURN)\n",
    "sleep(0.5)\n",
    "\n",
    "urls = []\n",
    "urls = driver.find_elements_by_xpath('//*[@class = \"r\"]/a[@href]')\n",
    "urls = [url.get_attribute('href') for url in urls]\n",
    "sleep(0.5)\n",
    "\n",
    "for url in urls:\n",
    "    driver.get(url)\n",
    "    sleep(2)\n",
    "\n",
    "    sel = Selector(text = driver.page_source)\n",
    "\n",
    "    name = sel.xpath('//*[@class = \"inline t-24 t-black t-normal break-words\"]/text()').extract_first().split()\n",
    "    name = ' '.join(name)\n",
    "\n",
    "    position = sel.xpath('//*[@class = \"mt1 t-18 t-black t-normal\"]/text()').extract_first().split()\n",
    "    position = ' '.join(position)\n",
    "\n",
    "    experience = sel.xpath('//*[@class = \"pv-top-card-v3--experience-list\"]')\n",
    "    company = experience.xpath('./li[@data-control-name = \"position_see_more\"]//span/text()').extract_first()\n",
    "    company = ''.join(company.split()) if company else None\n",
    "    education = experience.xpath('.//li[@data-control-name = \"education_see_more\"]//span/text()').extract_first()\n",
    "    education = ' '.join(education.split()) if education else None\n",
    "\n",
    "    location = ' '.join(sel.xpath('//*[@class = \"t-16 t-black t-normal inline-block\"]/text()').extract_first().split())\n",
    "\n",
    "    url = driver.current_url\n",
    "\n",
    "    print(f'Name: {name}, Position: {position}, Company: {company}, Education: {education}, Location: {location}, URL: {url}')\n",
    "          \n",
    "    writerFileCSV.writerow([name, position, company, education, location, url])"
   ]
  },
  {
   "cell_type": "code",
   "execution_count": null,
   "metadata": {},
   "outputs": [],
   "source": []
  },
  {
   "cell_type": "code",
   "execution_count": null,
   "metadata": {},
   "outputs": [],
   "source": []
  },
  {
   "cell_type": "code",
   "execution_count": 198,
   "metadata": {},
   "outputs": [],
   "source": [
    "driver.quit()"
   ]
  },
  {
   "cell_type": "code",
   "execution_count": 199,
   "metadata": {},
   "outputs": [],
   "source": [
    "fileCSV.close()"
   ]
  },
  {
   "cell_type": "code",
   "execution_count": null,
   "metadata": {},
   "outputs": [],
   "source": []
  },
  {
   "cell_type": "code",
   "execution_count": null,
   "metadata": {},
   "outputs": [],
   "source": []
  }
 ],
 "metadata": {
  "kernelspec": {
   "display_name": "'Python Interactive'",
   "language": "python",
   "name": "c0366ac6-933f-4c31-b9c5-b6c400a43f0d"
  },
  "language_info": {
   "codemirror_mode": {
    "name": "ipython",
    "version": 3
   },
   "file_extension": ".py",
   "mimetype": "text/x-python",
   "name": "python",
   "nbconvert_exporter": "python",
   "pygments_lexer": "ipython3",
   "version": "3.7.5"
  }
 },
 "nbformat": 4,
 "nbformat_minor": 2
}
